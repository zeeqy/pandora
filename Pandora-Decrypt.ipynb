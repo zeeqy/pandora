{
 "cells": [
  {
   "cell_type": "code",
   "execution_count": 1,
   "metadata": {
    "collapsed": true
   },
   "outputs": [],
   "source": [
    "from Crypto.Cipher import AES\n",
    "import hashlib\n",
    "import getpass\n",
    "import random\n",
    "import base64\n",
    "from Crypto.PublicKey import RSA"
   ]
  },
  {
   "cell_type": "code",
   "execution_count": 2,
   "metadata": {
    "collapsed": false
   },
   "outputs": [
    {
     "name": "stdout",
     "output_type": "stream",
     "text": [
      "private key localtion: /Volumes/Transcend/RSA-PrivateKey.txt\n",
      "AES Key: ········\n"
     ]
    }
   ],
   "source": [
    "private_key_location = raw_input(\"private key localtion: \")\n",
    "aes_key = getpass.getpass('AES Key: ').encode('utf-8')\n",
    "f = open(private_key_location,'r')\n",
    "private = f.read()\n",
    "f.close()\n",
    "f = open('pandora.txt','r')\n",
    "pw_list = f.read().splitlines() \n",
    "f.close()"
   ]
  },
  {
   "cell_type": "code",
   "execution_count": 12,
   "metadata": {
    "collapsed": true
   },
   "outputs": [],
   "source": [
    "def decode(private,aes_key,pw_list):\n",
    "    private_key = RSA.importKey(private)\n",
    "    md = hashlib.md5()\n",
    "    md.update(aes_key)\n",
    "    aes_string = md.digest()\n",
    "    obj = AES.new(aes_string)\n",
    "    pandora = []\n",
    "    for string in pw_list:\n",
    "        account = private_key.decrypt(obj.decrypt(base64.b64decode(string.split('\\t')[0])))\n",
    "        login = private_key.decrypt(obj.decrypt(base64.b64decode(string.split('\\t')[1])))\n",
    "        pandora.append([account,login])\n",
    "    return pandora"
   ]
  },
  {
   "cell_type": "code",
   "execution_count": 16,
   "metadata": {
    "collapsed": false
   },
   "outputs": [
    {
     "name": "stdout",
     "output_type": "stream",
     "text": [
      "Warning!! Pandora is opened\n",
      "Save or print: Save\n",
      "Save to the same dirctory with private key. !!Delete after viewing!!\n"
     ]
    }
   ],
   "source": [
    "pandora = decode(private,aes_key,pw_list)\n",
    "print \"!!Warning!! Pandora is opened\"\n",
    "opt = raw_input(\"save or print: \")\n",
    "if opt == 'save':\n",
    "    print \"saved to the same dirctory with private key. !!Delete after viewing!!\"\n",
    "    f=open('/'.join(private_key_location.split('/')[0:(len(private_key_location.split('/'))-1)])+'/pandora-opened.txt','w')\n",
    "    for i in pandora:\n",
    "        f.write(\"\"\"%s,%s\"\"\"%(i[0],i[1]))\n",
    "    f.close()\n",
    "else:\n",
    "    print pandora"
   ]
  }
 ],
 "metadata": {
  "kernelspec": {
   "display_name": "Python 2",
   "language": "python",
   "name": "python2"
  },
  "language_info": {
   "codemirror_mode": {
    "name": "ipython",
    "version": 2
   },
   "file_extension": ".py",
   "mimetype": "text/x-python",
   "name": "python",
   "nbconvert_exporter": "python",
   "pygments_lexer": "ipython2",
   "version": "2.7.11"
  }
 },
 "nbformat": 4,
 "nbformat_minor": 0
}
